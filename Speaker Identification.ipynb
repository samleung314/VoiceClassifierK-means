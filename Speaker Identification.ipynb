{
 "cells": [
  {
   "cell_type": "markdown",
   "metadata": {},
   "source": [
    "# Samson Leung, Naim Youssif \n",
    "# Introduction\n",
    "\n",
    "Our project attempts to classify the voices of 34 different speakers by using scipy library's kmeans function on  their training data. We have 34 speakers, each having 500 seconds of data."
   ]
  },
  {
   "cell_type": "markdown",
   "metadata": {},
   "source": [
    "# Concatenate Raw Speaker Files\n",
    "* This cell converts all 500 files of each of the 34 speakers to a single continuous files\n",
    "* The 34 files are saved in ./Raw Speaker Files, each file will take about a minute to process and save\n",
    "* Cell output will show when each file is completed in the format \"Saved - %s seconds"
   ]
  },
  {
   "cell_type": "code",
   "execution_count": null,
   "metadata": {
    "scrolled": false
   },
   "outputs": [],
   "source": [
    "##### CONCATENATE RAW SPEAKER FILES #####\n",
    "import time\n",
    "import pickle\n",
    "import numpy as np\n",
    "from os import listdir\n",
    "import scipy.io.wavfile as wav\n",
    "\n",
    "# load wav files\n",
    "speakersToLoad = 34\n",
    "filesToLoad = 500\n",
    "i=1\n",
    "for speaker in range(1,speakersToLoad+1):\n",
    "    start_time = time.time()\n",
    "    path = 'Raw Speaker Files/' + str(speaker)\n",
    "    files = listdir(path)\n",
    "    \n",
    "    folder = []\n",
    "    for file in range(filesToLoad):\n",
    "        rate, data = wav.read(path +'/'+ files[file])\n",
    "        folder = np.concatenate([folder, data])\n",
    "    np.save('Raw Speaker Files/speaker' + str(i), folder)\n",
    "    \n",
    "    print(str(i)+\" Saved - %s seconds\" % (time.time() - start_time))\n",
    "    i+=1\n",
    "print('SAVED FILES')"
   ]
  },
  {
   "cell_type": "markdown",
   "metadata": {},
   "source": [
    "# Apply Transformations\n",
    "* This cell applies the Short Term Fourier Transformation (STFT) on each of the 34 raw speaker files\n",
    "* The settings for the STFT are a 50ms window with 10ms overlap, each audio file is 25,000 samples/sec\n",
    "* After STFT, we take the absolute value, and then natural log. After, we apply the whitening transformation so the data has an identity covariance matrix. Matrix is then transposed for the kmeans function\n",
    "* The final result are 34 processed matrices of spectral vectors saved to the folder ./spectrals. Output will show when each spectral is made (~10 seconds each)\n"
   ]
  },
  {
   "cell_type": "code",
   "execution_count": 13,
   "metadata": {},
   "outputs": [
    {
     "name": "stdout",
     "output_type": "stream",
     "text": [
      "This cell applies the Short Term Fourier Transformation (STFT) on each of the 34 raw speaker files\n",
      "The settings for the STFT are a 50ms window with 10ms overlap, each audio file is 25,000 samples/secAfter STFT, we take the absolute value, and then natural log. After, we apply the whitening transformation\n",
      "so the data has an identity covariance matrix. The final result are 34 processed matrices of spectral vectors\n",
      "saved to the folder ./spectrals. Output will show when each spectral is made (around 10 seconds)\n",
      "1 Spectral created - 2.812817335128784 seconds\n",
      "2 Spectral created - 5.156804084777832 seconds\n",
      "3 Spectral created - 9.047848224639893 seconds\n",
      "4 Spectral created - 5.04529881477356 seconds\n",
      "5 Spectral created - 5.9851531982421875 seconds\n",
      "6 Spectral created - 5.618335723876953 seconds\n",
      "7 Spectral created - 5.812391519546509 seconds\n",
      "8 Spectral created - 6.101458311080933 seconds\n",
      "9 Spectral created - 5.782270431518555 seconds\n",
      "10 Spectral created - 4.552553415298462 seconds\n",
      "11 Spectral created - 4.546830654144287 seconds\n",
      "12 Spectral created - 5.375576734542847 seconds\n",
      "13 Spectral created - 4.350889682769775 seconds\n",
      "14 Spectral created - 6.389178514480591 seconds\n",
      "15 Spectral created - 6.460745573043823 seconds\n",
      "16 Spectral created - 5.579518556594849 seconds\n",
      "17 Spectral created - 6.7820165157318115 seconds\n",
      "18 Spectral created - 4.531016111373901 seconds\n",
      "19 Spectral created - 7.110609531402588 seconds\n",
      "20 Spectral created - 5.766489744186401 seconds\n",
      "21 Spectral created - 7.2300639152526855 seconds\n",
      "22 Spectral created - 4.953927278518677 seconds\n",
      "23 Spectral created - 5.250563859939575 seconds\n",
      "24 Spectral created - 6.773350477218628 seconds\n",
      "25 Spectral created - 9.67401671409607 seconds\n",
      "26 Spectral created - 8.511565923690796 seconds\n",
      "27 Spectral created - 5.058676719665527 seconds\n",
      "28 Spectral created - 6.310941934585571 seconds\n",
      "29 Spectral created - 6.746851921081543 seconds\n",
      "30 Spectral created - 5.686193943023682 seconds\n",
      "31 Spectral created - 4.5986456871032715 seconds\n",
      "32 Spectral created - 5.5318825244903564 seconds\n",
      "33 Spectral created - 6.845396280288696 seconds\n",
      "34 Spectral created - 9.81912112236023 seconds\n",
      "FOURIER, ABS, LOG, WHITEN, DONE\n"
     ]
    }
   ],
   "source": [
    "##### APPLY TRANSFORMATIONS #####\n",
    "from scipy.signal import stft\n",
    "from scipy.cluster.vq import whiten\n",
    "\n",
    "for i in range(34):\n",
    "    start_time = time.time()\n",
    "    rawFile = np.load('Raw Speaker Files/speaker' + str(i+1) + '.npy')\n",
    "\n",
    "    fs=25000 # audio is in 25,000 samples/sec\n",
    "    nperseg=1250 # 1250 samples per segment (50ms)\n",
    "    noverlap=250 # 250 sample overlap (10ms overlap)\n",
    "\n",
    "    # apply, short-term Fourier, then absolute value, then natural log, then Whitening transform\n",
    "    start_time = time.time()\n",
    "    freqs, times, Zxx = stft(x=rawFile, fs=fs, nperseg=nperseg, noverlap=noverlap, boundary=None)  \n",
    "    spectral = whiten(np.log(np.absolute(Zxx)).T)\n",
    "    np.save('spectrals/spectral' + str(i+1), spectral)\n",
    "\n",
    "    print(str(i+1)+\" Spectral created - %s seconds\" % (time.time() - start_time))\n",
    "\n",
    "print('FOURIER, ABS, LOG, WHITEN, DONE')"
   ]
  },
  {
   "cell_type": "markdown",
   "metadata": {},
   "source": [
    "# Generate Code Books Using Kmeans\n",
    "* This cell uses the Kmeans method to create code books for each speaker using the kmeans funciton from the scipy libraries\n",
    "* First each speaker's spectral vector matrix is loaded\n",
    "* Each kmeans takes around 5 minutes and the output will tell you when each kmeans has completed and the time it took to complete it. \n",
    "* Codebooks will be saved to the ./codeBooks folder\n",
    "* Output of cell will tell you when each kmeans has finished"
   ]
  },
  {
   "cell_type": "code",
   "execution_count": null,
   "metadata": {},
   "outputs": [],
   "source": [
    "#### APPLY Kmeans, SAVE CODEBOOKS #####\n",
    "print('This cell uses the Kmeans method to create code books for each speaker using the kmeans funciton from\\n' \n",
    "      'the scipy libraries. Each kmeans takes around 5 minutes and the output will tell you when each kmeans has\\n' \n",
    "      'completed and the time it took to complete it. Codebooks will be saved to the ./codeBooks folder')\n",
    "\n",
    "import time\n",
    "import numpy as np\n",
    "from scipy.cluster.vq import kmeans\n",
    "\n",
    "for i in range(34):\n",
    "    spectral = np.load('./spectral' + str(i+1) + '.npy')\n",
    "    start_time = time.time()\n",
    "    codebook, distortion = kmeans(obs=spectral, k_or_guess=512)\n",
    "    np.save('codeBooks/codeBook' + str(i+1), codebook)\n",
    "    print(str(i+1) + \" KMeans complete - %s seconds\" % (time.time() - start_time))\n",
    "print('KMeans ALL DONE')"
   ]
  },
  {
   "cell_type": "markdown",
   "metadata": {},
   "source": [
    "# Generate Random Test Data\n",
    "10% of the data from each of the 34 speakers (50 of the 500 files) is selected at random and loaded for testing. Output of this cell will tell you when 34 sets of random data have been sleected and loaded"
   ]
  },
  {
   "cell_type": "code",
   "execution_count": null,
   "metadata": {},
   "outputs": [],
   "source": [
    "##### GENERATE RANDOM TEST DATA #####\n",
    "import time\n",
    "import numpy as np\n",
    "from os import listdir\n",
    "import scipy.io.wavfile as wav\n",
    "\n",
    "# Load Code Books into array\n",
    "# codeBooks[speaker]\n",
    "codeBooks = []\n",
    "start_time = time.time()\n",
    "\n",
    "for i in range(34):\n",
    "    codeBooks.append(np.load('codeBooks/codeBook' + str(i+1) + '.npy'))\n",
    "    \n",
    "print(\"CodeBooks loaded - %s seconds\" % (time.time() - start_time))\n",
    "\n",
    "# Randomly select 10% of the files of each speaker to use as test data\n",
    "# testData = []\n",
    "testData = []\n",
    "\n",
    "start_time = time.time()\n",
    "\n",
    "for speaker in range(34):\n",
    "    rand = np.random.randint(low=0, high=500, size=50) # Fifty random ints from 0-499\n",
    "    path = 'Raw Speaker Files/' + str(speaker+1)\n",
    "    files = listdir(path)\n",
    "    \n",
    "    fiftyFiles = []\n",
    "    \n",
    "    for i in rand:\n",
    "        rate, data = wav.read(path +'/'+ files[i])\n",
    "        fiftyFiles = np.concatenate([fiftyFiles, data])\n",
    "        \n",
    "    testData.append(fiftyFiles)\n",
    "print(\"Test Data loaded - %s seconds\" % (time.time() - start_time))   "
   ]
  },
  {
   "cell_type": "markdown",
   "metadata": {},
   "source": [
    "# Process Test Data\n",
    "Like in the 2nd cell, we take the random data, apply the Short Term Fourier Transformation, apply absolute value, apply natural log, and apply the whitening transform, then transpose"
   ]
  },
  {
   "cell_type": "code",
   "execution_count": null,
   "metadata": {},
   "outputs": [],
   "source": [
    "##### TRANSFORM RANDOM TEST DATA #####\n",
    "from scipy.signal import stft\n",
    "from scipy.cluster.vq import whiten\n",
    "\n",
    "start_time = time.time()\n",
    "\n",
    "# Apply Fourier, then absolute, then log, then whiten on testData\n",
    "for speaker in range(len(testData)):\n",
    "\n",
    "    fs=25000 # audio is in 25,000 samples/sec\n",
    "    nperseg=1250 # 1250 samples per segment (50ms)\n",
    "    noverlap=250 # 250 sample overlap (10ms overlap)\n",
    "\n",
    "    # apply, short-term Fourier, then absolute value, then natural log, then Whitening transform\n",
    "    freqs, times, Zxx = stft(x=testData[speaker], fs=fs, nperseg=nperseg, noverlap=noverlap, boundary=None)  \n",
    "    testData[speaker] = whiten(np.log(np.absolute(Zxx)).T)\n",
    "\n",
    "print(\"Test data transformed - %s seconds\" % (time.time() - start_time))"
   ]
  },
  {
   "cell_type": "code",
   "execution_count": null,
   "metadata": {},
   "outputs": [],
   "source": [
    "##### Determine speaker from test data #####\n",
    "from scipy.cluster.vq import vq\n",
    "\n",
    "# results = [speaker]\n",
    "results = []\n",
    "\n",
    "start_time = time.time()\n",
    "\n",
    "for speaker in testData:\n",
    "    \n",
    "    # distances[speaker]\n",
    "    distances = []\n",
    "    \n",
    "    # Get distortion distance between testData[speaker] and each code book\n",
    "    for book in codeBooks:\n",
    "        code, dist = vq(obs=speaker, code_book=book)\n",
    "        distances.append(np.sum(dist))\n",
    "\n",
    "    i=1\n",
    "    for d in distances:\n",
    "        #if d == min(distances): print('Distortion from speaker ' + str(i) + ': ' + str(d) + ' <-- Closest Speaker ' + str(i))\n",
    "        if d == min(distances): results.append(i)\n",
    "        i+=1\n",
    "print(\"Predictions Complete - %s seconds\" % (time.time() - start_time))"
   ]
  },
  {
   "cell_type": "code",
   "execution_count": null,
   "metadata": {},
   "outputs": [],
   "source": [
    "#### Print results and calculate confusion matrix\n",
    "import pandas as pd\n",
    "\n",
    "# match[iteration]\n",
    "match = []\n",
    "for r in range(len(results)):\n",
    "    m = []\n",
    "    if (r+1) == results[r]:  m.append('Yes')\n",
    "    else: m.append('No')\n",
    "match.append(m)\n",
    "\n",
    "df = pd.DataFrame(data={'Match?':match, 'Prediction':results}, index=range(1,35))\n",
    "df = df[['Prediction', 'Match?']]\n",
    "df.index.name = 'Speaker'\n",
    "df"
   ]
  },
  {
   "cell_type": "code",
   "execution_count": null,
   "metadata": {},
   "outputs": [],
   "source": []
  }
 ],
 "metadata": {
  "kernelspec": {
   "display_name": "Python 3",
   "language": "python",
   "name": "python3"
  },
  "language_info": {
   "codemirror_mode": {
    "name": "ipython",
    "version": 3
   },
   "file_extension": ".py",
   "mimetype": "text/x-python",
   "name": "python",
   "nbconvert_exporter": "python",
   "pygments_lexer": "ipython3",
   "version": "3.6.4"
  }
 },
 "nbformat": 4,
 "nbformat_minor": 2
}
