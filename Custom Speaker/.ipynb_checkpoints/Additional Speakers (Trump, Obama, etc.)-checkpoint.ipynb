{
 "cells": [
  {
   "cell_type": "code",
   "execution_count": 40,
   "metadata": {},
   "outputs": [
    {
     "name": "stdout",
     "output_type": "stream",
     "text": [
      "25000\n",
      "Loaded - 0.031249523162841797 seconds\n"
     ]
    }
   ],
   "source": [
    "##### SAVE RAW SPEAKER FILES #####\n",
    "\n",
    "import time\n",
    "import pickle\n",
    "import numpy as np\n",
    "from os import listdir\n",
    "import scipy.io.wavfile as wav\n",
    "\n",
    "# load wav file\n",
    "start_time = time.time()\n",
    "rate, data = wav.read('Custom Speaker/speaker5test.wav')\n",
    "print(rate)\n",
    "\n",
    "print(\"Loaded - %s seconds\" % (time.time() - start_time))"
   ]
  },
  {
   "cell_type": "code",
   "execution_count": 41,
   "metadata": {},
   "outputs": [
    {
     "name": "stdout",
     "output_type": "stream",
     "text": [
      "Spectral created - 0.12495899200439453 seconds\n"
     ]
    }
   ],
   "source": [
    "##### APPLY TRANSFORMATIONS #####\n",
    "from scipy.signal import stft\n",
    "from scipy.cluster.vq import whiten\n",
    "\n",
    "start_time = time.time()\n",
    "\n",
    "fs=25000 # audio is in 25,000 samples/sec\n",
    "nperseg=1250 # 1250 samples per segment (50ms)\n",
    "noverlap=250 # 250 sample overlap (10ms overlap)\n",
    "\n",
    "# apply, short-term Fourier, then absolute value, then natural log, then Whitening transform\n",
    "start_time = time.time()\n",
    "freqs, times, Zxx = stft(x=data, fs=fs, nperseg=nperseg, noverlap=noverlap, boundary=None)  \n",
    "spectral = whiten(np.log(np.absolute(Zxx)).T)\n",
    "\n",
    "print(\"Spectral created - %s seconds\" % (time.time() - start_time))\n"
   ]
  },
  {
   "cell_type": "code",
   "execution_count": 43,
   "metadata": {},
   "outputs": [
    {
     "name": "stdout",
     "output_type": "stream",
     "text": [
      "CodeBooks loaded\n",
      "Distortion from speaker 1: 47398.81859273765\n",
      "Distortion from speaker 2: 46714.450860835015\n",
      "Distortion from speaker 3: 45984.44156207888\n",
      "Distortion from speaker 4: 47311.54904708019\n",
      "Distortion from speaker 5: 45376.484803955645\n",
      "Distortion from speaker 6: 47912.52992306366\n",
      "Distortion from speaker 7: 48845.69502749767\n",
      "Distortion from speaker 8: 47541.59169895419\n",
      "Distortion from speaker 9: 45691.192996857644\n",
      "Distortion from speaker 10: 46914.06100462526\n",
      "Distortion from speaker 11: 48171.981787500044\n",
      "Distortion from speaker 12: 46457.690847845995\n",
      "Distortion from speaker 13: 48752.75447395648\n",
      "Distortion from speaker 14: 46149.304156226244\n",
      "Distortion from speaker 15: 47355.48899510072\n",
      "Distortion from speaker 16: 47189.16303275903\n",
      "Distortion from speaker 17: 46161.09918779887\n",
      "Distortion from speaker 18: 49317.01429898189\n",
      "Distortion from speaker 19: 47430.405858471975\n",
      "Distortion from speaker 20: 47526.92290078746\n",
      "Distortion from speaker 21: 47197.85320267746\n",
      "Distortion from speaker 22: 48824.46492153693\n",
      "Distortion from speaker 23: 48502.95778594706\n",
      "Distortion from speaker 24: 47443.10031793258\n",
      "Distortion from speaker 25: 47947.02139685211\n",
      "Distortion from speaker 26: 48836.32198399572\n",
      "Distortion from speaker 27: 44810.61385164713 <-- Closest Speaker 27\n",
      "Distortion from speaker 28: 48501.536437087074\n",
      "Distortion from speaker 29: 48283.23633154083\n",
      "Distortion from speaker 30: 46982.05090593983\n",
      "Distortion from speaker 31: 46727.48797662204\n",
      "Distortion from speaker 32: 46830.23632567913\n",
      "Distortion from speaker 33: 48746.422918155215\n",
      "Distortion from speaker 34: 48779.61151608227\n",
      "Predictions Complete - 1.3282697200775146 seconds\n"
     ]
    }
   ],
   "source": [
    "# Load Code Books into array\n",
    "# codeBooks[speaker]\n",
    "codeBooks = []\n",
    "start_time = time.time()\n",
    "\n",
    "for i in range(34):\n",
    "    codeBooks.append(np.load('codeBooks/codeBook' + str(i+1) + '.npy'))\n",
    "    \n",
    "print(\"CodeBooks loaded\")\n",
    "\n",
    "##### Determine speaker from test data #####\n",
    "from scipy.cluster.vq import vq\n",
    "\n",
    "# distances[speaker]\n",
    "distances = []\n",
    "\n",
    "# Get distortion distance between testData[speaker] and each code book\n",
    "for book in codeBooks:\n",
    "    code, dist = vq(obs=spectral, code_book=book)\n",
    "    distances.append(np.sum(dist))\n",
    "\n",
    "i=1\n",
    "for d in distances:\n",
    "    if d == min(distances): print('Distortion from speaker ' + str(i) + ': ' + str(d) + ' <-- Closest Speaker ' + str(i))\n",
    "    else: print('Distortion from speaker ' + str(i) + ': ' + str(d))\n",
    "    i+=1\n",
    "print(\"Predictions Complete - %s seconds\" % (time.time() - start_time))"
   ]
  },
  {
   "cell_type": "code",
   "execution_count": null,
   "metadata": {},
   "outputs": [],
   "source": []
  }
 ],
 "metadata": {
  "kernelspec": {
   "display_name": "Python 3",
   "language": "python",
   "name": "python3"
  },
  "language_info": {
   "codemirror_mode": {
    "name": "ipython",
    "version": 3
   },
   "file_extension": ".py",
   "mimetype": "text/x-python",
   "name": "python",
   "nbconvert_exporter": "python",
   "pygments_lexer": "ipython3",
   "version": "3.6.4"
  }
 },
 "nbformat": 4,
 "nbformat_minor": 2
}
